{
  "nbformat": 4,
  "nbformat_minor": 0,
  "metadata": {
    "colab": {
      "provenance": [],
      "toc_visible": true
    },
    "kernelspec": {
      "name": "python3",
      "display_name": "Python 3"
    },
    "language_info": {
      "name": "python"
    }
  },
  "cells": [
    {
      "cell_type": "markdown",
      "source": [
        "MAJOR_ASSIGNMENT 1 [BDAWAS]"
      ],
      "metadata": {
        "id": "uGFAHMLEa8gK"
      }
    },
    {
      "cell_type": "markdown",
      "source": [
        " Initialize Spark and Load Data\n"
      ],
      "metadata": {
        "id": "zeNiLSP1WGUE"
      }
    },
    {
      "cell_type": "markdown",
      "source": [
        "(a) Initialize a Spark Session with Hive Support\n"
      ],
      "metadata": {
        "id": "woAP5wkCW9js"
      }
    },
    {
      "cell_type": "code",
      "source": [
        "from pyspark.sql import SparkSession\n",
        "\n",
        "# Initialize Spark Session\n",
        "spark = SparkSession.builder \\\n",
        "    .appName(\"E-commerce Sales Analysis\") \\\n",
        "    .config(\"spark.sql.catalogImplementation\", \"hive\") \\\n",
        "    .getOrCreate()\n"
      ],
      "metadata": {
        "id": "pFQNiytfW_BF"
      },
      "execution_count": 2,
      "outputs": []
    },
    {
      "cell_type": "markdown",
      "source": [
        "(b) Read the CSV File into a DataFrame\n",
        "\n"
      ],
      "metadata": {
        "id": "wINN9GwOXJtE"
      }
    },
    {
      "cell_type": "code",
      "source": [
        "from pyspark.sql import SparkSession\n",
        "from pyspark.sql.types import StructType, StructField, IntegerType, StringType, DoubleType\n",
        "\n",
        "# Initialize Spark Session\n",
        "spark = SparkSession.builder.appName(\"E-commerce Sales Analysis\").getOrCreate()\n",
        "\n",
        "# Define Schema\n",
        "schema = StructType([\n",
        "    StructField(\"order_id\", IntegerType(), True),\n",
        "    StructField(\"customer_id\", IntegerType(), True),\n",
        "    StructField(\"product_id\", IntegerType(), True),\n",
        "    StructField(\"category\", StringType(), True),\n",
        "    StructField(\"quantity\", IntegerType(), True),\n",
        "    StructField(\"price\", DoubleType(), True),\n",
        "    StructField(\"date\", StringType(), True)\n",
        "])\n",
        "\n",
        "# Sample Data\n",
        "data = [\n",
        "    (101, 1001, 2001, \"Electronics\", 3, 1500.0, \"2025-03-10\"),\n",
        "    (102, 1002, 2002, \"Clothing\", 1, 500.0, \"2025-03-11\"),\n",
        "    (103, 1003, 2003, \"Electronics\", 2, 1200.0, \"2025-03-12\"),\n",
        "    (104, 1004, 2004, \"Home Decor\", 4, 300.0, \"2025-03-13\"),\n",
        "    (105, 1005, 2005, \"Clothing\", 2, 800.0, \"2025-03-14\"),\n",
        "    (106, 1006, 2006, \"Electronics\", 1, 900.0, \"2025-03-15\"),\n",
        "    (107, 1007, 2007, \"Furniture\", 2, 2500.0, \"2025-03-16\"),\n",
        "    (108, 1008, 2008, \"Clothing\", 3, 600.0, \"2025-03-17\"),\n",
        "    (109, 1009, 2009, \"Home Decor\", 1, 350.0, \"2025-03-18\"),\n",
        "    (110, 1010, 2010, \"Electronics\", 2, 1100.0, \"2025-03-19\")\n",
        "]\n",
        "\n",
        "# Create DataFrame\n",
        "df = spark.createDataFrame(data, schema=schema)\n",
        "\n",
        "# Show DataFrame\n",
        "df.show()\n"
      ],
      "metadata": {
        "colab": {
          "base_uri": "https://localhost:8080/"
        },
        "id": "yvqRnABxXNcU",
        "outputId": "e27af2dc-e8c0-4f35-a31f-afa4171a3057"
      },
      "execution_count": 3,
      "outputs": [
        {
          "output_type": "stream",
          "name": "stdout",
          "text": [
            "+--------+-----------+----------+-----------+--------+------+----------+\n",
            "|order_id|customer_id|product_id|   category|quantity| price|      date|\n",
            "+--------+-----------+----------+-----------+--------+------+----------+\n",
            "|     101|       1001|      2001|Electronics|       3|1500.0|2025-03-10|\n",
            "|     102|       1002|      2002|   Clothing|       1| 500.0|2025-03-11|\n",
            "|     103|       1003|      2003|Electronics|       2|1200.0|2025-03-12|\n",
            "|     104|       1004|      2004| Home Decor|       4| 300.0|2025-03-13|\n",
            "|     105|       1005|      2005|   Clothing|       2| 800.0|2025-03-14|\n",
            "|     106|       1006|      2006|Electronics|       1| 900.0|2025-03-15|\n",
            "|     107|       1007|      2007|  Furniture|       2|2500.0|2025-03-16|\n",
            "|     108|       1008|      2008|   Clothing|       3| 600.0|2025-03-17|\n",
            "|     109|       1009|      2009| Home Decor|       1| 350.0|2025-03-18|\n",
            "|     110|       1010|      2010|Electronics|       2|1100.0|2025-03-19|\n",
            "+--------+-----------+----------+-----------+--------+------+----------+\n",
            "\n"
          ]
        }
      ]
    },
    {
      "cell_type": "code",
      "source": [
        "spark = SparkSession.builder.appName(\"E-commerce Sales Analysis\").getOrCreate()\n",
        "df = spark.createDataFrame(data, schema=schema)\n"
      ],
      "metadata": {
        "id": "ic4cU71oZpQD"
      },
      "execution_count": 4,
      "outputs": []
    },
    {
      "cell_type": "markdown",
      "source": [
        "Q2: Create a Temporary View and Filter High-Value Orders\n"
      ],
      "metadata": {
        "id": "8Hg5RRDyZ4Du"
      }
    },
    {
      "cell_type": "code",
      "source": [
        "df.createOrReplaceTempView(\"sales_data\")\n"
      ],
      "metadata": {
        "id": "-bX71QjfZ6af"
      },
      "execution_count": 5,
      "outputs": []
    },
    {
      "cell_type": "markdown",
      "source": [
        "(b) Write a Spark SQL Query to Filter High-Value Orders\n"
      ],
      "metadata": {
        "id": "m0epy22KaD1o"
      }
    },
    {
      "cell_type": "code",
      "source": [
        "high_value_orders = spark.sql(\"\"\"\n",
        "    SELECT * FROM sales_data\n",
        "    WHERE price > 1000 AND quantity >= 2\n",
        "\"\"\")\n",
        "\n",
        "# Display Filtered Rows\n",
        "high_value_orders.show()\n"
      ],
      "metadata": {
        "colab": {
          "base_uri": "https://localhost:8080/"
        },
        "id": "DoMlGYx-aFN3",
        "outputId": "d4168323-d8e7-4cc7-da02-416e8cbc99f6"
      },
      "execution_count": 6,
      "outputs": [
        {
          "output_type": "stream",
          "name": "stdout",
          "text": [
            "+--------+-----------+----------+-----------+--------+------+----------+\n",
            "|order_id|customer_id|product_id|   category|quantity| price|      date|\n",
            "+--------+-----------+----------+-----------+--------+------+----------+\n",
            "|     101|       1001|      2001|Electronics|       3|1500.0|2025-03-10|\n",
            "|     103|       1003|      2003|Electronics|       2|1200.0|2025-03-12|\n",
            "|     107|       1007|      2007|  Furniture|       2|2500.0|2025-03-16|\n",
            "|     110|       1010|      2010|Electronics|       2|1100.0|2025-03-19|\n",
            "+--------+-----------+----------+-----------+--------+------+----------+\n",
            "\n"
          ]
        }
      ]
    },
    {
      "cell_type": "markdown",
      "source": [
        "Q3: Aggregate Sales by Category\n"
      ],
      "metadata": {
        "id": "nnjn1dsjaKqg"
      }
    },
    {
      "cell_type": "markdown",
      "source": [
        "(a) Using Spark SQL to Calculate Aggregates"
      ],
      "metadata": {
        "id": "N6GTRDmwaOcL"
      }
    },
    {
      "cell_type": "code",
      "source": [
        "category_sales_summary = spark.sql(\"\"\"\n",
        "    SELECT category,\n",
        "           SUM(quantity * price) AS total_revenue,\n",
        "           AVG(price) AS average_price,\n",
        "           COUNT(order_id) AS total_orders\n",
        "    FROM sales_data\n",
        "    GROUP BY category\n",
        "\"\"\")\n",
        "\n",
        "# Display Aggregated Results\n",
        "category_sales_summary.show()\n"
      ],
      "metadata": {
        "colab": {
          "base_uri": "https://localhost:8080/"
        },
        "id": "HdS_dB5FaTAz",
        "outputId": "2d5cc0fb-ca0a-490a-8165-11d3b181eb23"
      },
      "execution_count": 7,
      "outputs": [
        {
          "output_type": "stream",
          "name": "stdout",
          "text": [
            "+-----------+-------------+-----------------+------------+\n",
            "|   category|total_revenue|    average_price|total_orders|\n",
            "+-----------+-------------+-----------------+------------+\n",
            "|Electronics|      10000.0|           1175.0|           4|\n",
            "|   Clothing|       3900.0|633.3333333333334|           3|\n",
            "| Home Decor|       1550.0|            325.0|           2|\n",
            "|  Furniture|       5000.0|           2500.0|           1|\n",
            "+-----------+-------------+-----------------+------------+\n",
            "\n"
          ]
        }
      ]
    },
    {
      "cell_type": "markdown",
      "source": [
        "Q4: Save Filtered and Aggregated Results to CSV\n"
      ],
      "metadata": {
        "id": "ghHfHOT3abf_"
      }
    },
    {
      "cell_type": "code",
      "source": [
        "# Save High-Value Orders\n",
        "high_value_orders.write.csv(\"high_value_orders.csv\", header=True, mode=\"overwrite\")\n",
        "\n",
        "# Save Aggregated Sales Data\n",
        "category_sales_summary.write.csv(\"category_sales_summary.csv\", header=True, mode=\"overwrite\")\n"
      ],
      "metadata": {
        "id": "WrCvp9Guadtr"
      },
      "execution_count": 8,
      "outputs": []
    }
  ]
}